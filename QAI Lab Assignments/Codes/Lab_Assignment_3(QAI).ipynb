{
 "cells": [
  {
   "cell_type": "code",
   "execution_count": 39,
   "id": "37d71503-01bc-4d25-b071-b8e0b5051d67",
   "metadata": {
    "tags": []
   },
   "outputs": [],
   "source": [
    "from qiskit import QuantumRegister, ClassicalRegister\n",
    "from qiskit import QuantumCircuit, execute,IBMQ\n",
    "from qiskit.tools.monitor import job_monitor\n",
    "from qiskit.circuit.library import QFT\n",
    "from qiskit.visualization import circuit_drawer\n",
    "from qiskit.circuit.library.standard_gates import CU1Gate\n",
    "import numpy as np"
   ]
  },
  {
   "cell_type": "code",
   "execution_count": 40,
   "id": "1a137640-2f99-4e1c-ae17-d37a6b869ad0",
   "metadata": {
    "tags": []
   },
   "outputs": [],
   "source": [
    "pi = np.pi"
   ]
  },
  {
   "cell_type": "code",
   "execution_count": 41,
   "id": "df22a6be-2e8d-472a-bfe0-4a531c3a10ef",
   "metadata": {
    "tags": []
   },
   "outputs": [],
   "source": [
    "q = QuantumRegister(5,'q')\n",
    "c = ClassicalRegister(5,'c')"
   ]
  },
  {
   "cell_type": "code",
   "execution_count": 42,
   "id": "819113d8-bd23-4b4b-baa5-06f7f17156f2",
   "metadata": {
    "tags": []
   },
   "outputs": [],
   "source": [
    "for i in range(0, 3):\n",
    "  circuit = QuantumCircuit(q,c)"
   ]
  },
  {
   "cell_type": "code",
   "execution_count": 43,
   "id": "5a6ebcd5-70df-4dde-840c-d058ba8c4b44",
   "metadata": {
    "tags": []
   },
   "outputs": [
    {
     "data": {
      "text/plain": [
       "<qiskit.circuit.instructionset.InstructionSet at 0x7f711d387b20>"
      ]
     },
     "execution_count": 43,
     "metadata": {},
     "output_type": "execute_result"
    }
   ],
   "source": [
    "circuit.x(q[4])\n",
    "circuit.x(q[2])\n",
    "circuit.x(q[0])"
   ]
  },
  {
   "cell_type": "code",
   "execution_count": 44,
   "id": "4055b8c2-150c-4335-8878-6a5b3d05187b",
   "metadata": {
    "tags": []
   },
   "outputs": [
    {
     "data": {
      "text/plain": [
       "<qiskit.circuit.instructionset.InstructionSet at 0x7f711bead9f0>"
      ]
     },
     "execution_count": 44,
     "metadata": {},
     "output_type": "execute_result"
    }
   ],
   "source": [
    "num_qubits = 5\n",
    "circuit.append(QFT(num_qubits=num_qubits, approximation_degree=0, do_swaps=True, inverse=False, insert_barriers=True, name='qft'), qargs=list(range(num_qubits)))\n",
    "circuit.append(QFT(num_qubits=num_qubits, approximation_degree=0, do_swaps=True, inverse=True, insert_barriers=True, name='qft'), qargs=list(range(num_qubits)))"
   ]
  },
  {
   "cell_type": "code",
   "execution_count": 45,
   "id": "c2ed6b1f-1a80-44a6-8c57-ba623415e42f",
   "metadata": {
    "tags": []
   },
   "outputs": [
    {
     "data": {
      "image/png": "[encoded data removed]",
      "text/plain": [
       "<Figure size 789.163x535.111 with 1 Axes>"
      ]
     },
     "execution_count": 45,
     "metadata": {},
     "output_type": "execute_result"
    }
   ],
   "source": [
    "circuit.measure(q,c)\n",
    "circuit.draw(output='mpl',filename='qft2.png')"
   ]
  },
  {
   "cell_type": "code",
   "execution_count": 46,
   "id": "64bfa18c-82c3-459f-b650-13212b110bbd",
   "metadata": {
    "tags": []
   },
   "outputs": [
    {
     "name": "stdout",
     "output_type": "stream",
     "text": [
      "QFT Circuit:\n",
      "     ┌───┐┌──────┐┌──────┐┌─┐            \n",
      "q_0: ┤ X ├┤0     ├┤0     ├┤M├────────────\n",
      "     └───┘│      ││      │└╥┘┌─┐         \n",
      "q_1: ─────┤1     ├┤1     ├─╫─┤M├─────────\n",
      "     ┌───┐│      ││      │ ║ └╥┘┌─┐      \n",
      "q_2: ┤ X ├┤2 qft ├┤2 qft ├─╫──╫─┤M├──────\n",
      "     └───┘│      ││      │ ║  ║ └╥┘┌─┐   \n",
      "q_3: ─────┤3     ├┤3     ├─╫──╫──╫─┤M├───\n",
      "     ┌───┐│      ││      │ ║  ║  ║ └╥┘┌─┐\n",
      "q_4: ┤ X ├┤4     ├┤4     ├─╫──╫──╫──╫─┤M├\n",
      "     └───┘└──────┘└──────┘ ║  ║  ║  ║ └╥┘\n",
      "c: 5/══════════════════════╩══╩══╩══╩══╩═\n",
      "                           0  1  2  3  4 \n"
     ]
    }
   ],
   "source": [
    "print(\"QFT Circuit:\")\n",
    "print(circuit_drawer(circuit, output='text'))"
   ]
  },
  {
   "cell_type": "code",
   "execution_count": 47,
   "id": "e5c91df8-a41b-407b-94b3-e4a4e985e1bf",
   "metadata": {
    "tags": []
   },
   "outputs": [
    {
     "name": "stdout",
     "output_type": "stream",
     "text": [
      "     ┌───┐┌──────┐┌──────┐┌─┐            \n",
      "q_0: ┤ X ├┤0     ├┤0     ├┤M├────────────\n",
      "     └───┘│      ││      │└╥┘┌─┐         \n",
      "q_1: ─────┤1     ├┤1     ├─╫─┤M├─────────\n",
      "     ┌───┐│      ││      │ ║ └╥┘┌─┐      \n",
      "q_2: ┤ X ├┤2 qft ├┤2 qft ├─╫──╫─┤M├──────\n",
      "     └───┘│      ││      │ ║  ║ └╥┘┌─┐   \n",
      "q_3: ─────┤3     ├┤3     ├─╫──╫──╫─┤M├───\n",
      "     ┌───┐│      ││      │ ║  ║  ║ └╥┘┌─┐\n",
      "q_4: ┤ X ├┤4     ├┤4     ├─╫──╫──╫──╫─┤M├\n",
      "     └───┘└──────┘└──────┘ ║  ║  ║  ║ └╥┘\n",
      "c: 5/══════════════════════╩══╩══╩══╩══╩═\n",
      "                           0  1  2  3  4 \n"
     ]
    }
   ],
   "source": [
    "print(circuit)"
   ]
  },
  {
   "cell_type": "code",
   "execution_count": 48,
   "id": "acea911f-e50a-47ae-a9c7-3bef4b93b789",
   "metadata": {
    "tags": []
   },
   "outputs": [],
   "source": [
    "from qiskit_aer import AerSimulator\n",
    "from qiskit import transpile"
   ]
  },
  {
   "cell_type": "code",
   "execution_count": 49,
   "id": "86346fec-0737-4171-9dd1-34d3a1106b0d",
   "metadata": {
    "tags": []
   },
   "outputs": [],
   "source": [
    "backend = AerSimulator()"
   ]
  },
  {
   "cell_type": "code",
   "execution_count": 50,
   "id": "ee8c6e9b-d1c0-4625-be1d-076d782f28cb",
   "metadata": {
    "tags": []
   },
   "outputs": [],
   "source": [
    "qc_compiled = transpile(circuit, backend)"
   ]
  },
  {
   "cell_type": "code",
   "execution_count": 51,
   "id": "40c94d22-73f7-4952-a3f6-cee927b88ce4",
   "metadata": {
    "tags": []
   },
   "outputs": [],
   "source": [
    "job_sim = backend.run(qc_compiled, shots=1000)\n",
    "result_sim = job_sim.result()\n"
   ]
  },
  {
   "cell_type": "code",
   "execution_count": 52,
   "id": "cf00b2b8-01e7-4045-8a37-d77ea9197b1f",
   "metadata": {
    "tags": []
   },
   "outputs": [
    {
     "name": "stdout",
     "output_type": "stream",
     "text": [
      "{'10101': 1000}\n"
     ]
    }
   ],
   "source": [
    "counts = result_sim.get_counts(qc_compiled)\n",
    "print(counts)"
   ]
  },
  {
   "cell_type": "code",
   "execution_count": 53,
   "id": "28b325c7-2ab4-4c8d-8b33-6b7d4209bc9e",
   "metadata": {
    "tags": []
   },
   "outputs": [
    {
     "data": {
      "image/png": "[encoded data removed]",
      "text/plain": [
       "<Figure size 700x500 with 1 Axes>"
      ]
     },
     "execution_count": 53,
     "metadata": {},
     "output_type": "execute_result"
    }
   ],
   "source": [
    "from qiskit.visualization import plot_histogram\n",
    "plot_histogram(counts)"
   ]
  },
  {
   "cell_type": "code",
   "execution_count": 56,
   "id": "9c812aa5-c137-469b-862f-637f3e6df5e8",
   "metadata": {
    "tags": []
   },
   "outputs": [
    {
     "name": "stdout",
     "output_type": "stream",
     "text": [
      "     ┌───┐                                                                  »\n",
      "q_0: ┤ H ├─■─────────■──────────────■───────────────────■───────────────────»\n",
      "     └───┘ │U1(π/2)  │        ┌───┐ │                   │                   »\n",
      "q_1: ──────■─────────┼────────┤ H ├─┼─────────■─────────┼──────────■────────»\n",
      "                     │U1(π/4) └───┘ │         │U1(π/2)  │          │        »\n",
      "q_2: ────────────────■──────────────┼─────────■─────────┼──────────┼────────»\n",
      "                                    │U1(π/8)            │          │U1(π/4) »\n",
      "q_3: ───────────────────────────────■───────────────────┼──────────■────────»\n",
      "                                                        │U1(π/16)           »\n",
      "q_4: ───────────────────────────────────────────────────■───────────────────»\n",
      "                                                                            »\n",
      "«                                                            \n",
      "«q_0: ───────────────────────────────────────────────────────\n",
      "«                                                            \n",
      "«q_1: ──────■────────────────────────────────────────────────\n",
      "«     ┌───┐ │                                                \n",
      "«q_2: ┤ H ├─┼─────────■─────────■────────────────────────────\n",
      "«     └───┘ │         │U1(π/2)  │        ┌───┐               \n",
      "«q_3: ──────┼─────────■─────────┼────────┤ H ├─■─────────────\n",
      "«           │U1(π/8)            │U1(π/4) └───┘ │U1(π/2) ┌───┐\n",
      "«q_4: ──────■───────────────────■──────────────■────────┤ H ├\n",
      "«                                                       └───┘\n"
     ]
    }
   ],
   "source": [
    "def qft(circuit, n):\n",
    "    # Apply Hadamard gates\n",
    "    for j in range(n):\n",
    "        circuit.h(j)\n",
    "        for k in range(j+1, n):\n",
    "            angle = pi / float(2**(k-j))\n",
    "            circuit.append(CU1Gate(angle), [j, k])\n",
    "            \n",
    "num_qubits = 5\n",
    "qft_circuit = QuantumCircuit(num_qubits)\n",
    "\n",
    "qft(qft_circuit, num_qubits)\n",
    "qft_circuit.draw(output='mpl',filename='qft2_circuit.png')\n",
    "print(qft_circuit)\n"
   ]
  },
  {
   "cell_type": "code",
   "execution_count": null,
   "id": "ab998bd9-9429-49aa-b1d3-38a508521a05",
   "metadata": {},
   "outputs": [],
   "source": []
  }
 ],
 "metadata": {
  "kernelspec": {
   "display_name": "Python 3 (ipykernel)",
   "language": "python",
   "name": "python3"
  },
  "language_info": {
   "codemirror_mode": {
    "name": "ipython",
    "version": 3
   },
   "file_extension": ".py",
   "mimetype": "text/x-python",
   "name": "python",
   "nbconvert_exporter": "python",
   "pygments_lexer": "ipython3",
   "version": "3.10.8"
  },
  "widgets": {
   "application/vnd.jupyter.widget-state+json": {
    "state": {},
    "version_major": 2,
    "version_minor": 0
   }
  }
 },
 "nbformat": 4,
 "nbformat_minor": 5
}
