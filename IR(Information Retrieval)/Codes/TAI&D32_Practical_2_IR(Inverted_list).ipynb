{
  "nbformat": 4,
  "nbformat_minor": 0,
  "metadata": {
    "colab": {
      "provenance": []
    },
    "kernelspec": {
      "name": "python3",
      "display_name": "Python 3"
    },
    "language_info": {
      "name": "python"
    }
  },
  "cells": [
    {
      "cell_type": "code",
      "source": [
        "import nltk\n",
        "from nltk import word_tokenize"
      ],
      "metadata": {
        "id": "PFU5xxAfAWTA"
      },
      "execution_count": 1,
      "outputs": []
    },
    {
      "cell_type": "code",
      "source": [
        "from nltk.corpus import stopwords\n",
        "from string import punctuation\n",
        "nltk.download('stopwords')\n",
        "\n",
        "stop_word_list = set(list(punctuation) + stopwords.words('english'))"
      ],
      "metadata": {
        "colab": {
          "base_uri": "https://localhost:8080/"
        },
        "id": "JXpeEa9XFj9I",
        "outputId": "63d83ccc-3129-4ed1-d0d1-59e778030cbb"
      },
      "execution_count": 2,
      "outputs": [
        {
          "output_type": "stream",
          "name": "stderr",
          "text": [
            "[nltk_data] Downloading package stopwords to /root/nltk_data...\n",
            "[nltk_data]   Unzipping corpora/stopwords.zip.\n"
          ]
        }
      ]
    },
    {
      "cell_type": "code",
      "source": [
        "nltk.download('punkt')\n"
      ],
      "metadata": {
        "colab": {
          "base_uri": "https://localhost:8080/"
        },
        "id": "_2O2dFzPDor3",
        "outputId": "2152bde4-1375-4f4d-a061-3bf4541fa5fd"
      },
      "execution_count": 3,
      "outputs": [
        {
          "output_type": "stream",
          "name": "stderr",
          "text": [
            "[nltk_data] Downloading package punkt to /root/nltk_data...\n",
            "[nltk_data]   Unzipping tokenizers/punkt.zip.\n"
          ]
        },
        {
          "output_type": "execute_result",
          "data": {
            "text/plain": [
              "True"
            ]
          },
          "metadata": {},
          "execution_count": 3
        }
      ]
    },
    {
      "cell_type": "code",
      "source": [
        "doc1 = \"Hello sonu how are you. sonu is good boy.\".lower()\n",
        "doc2 = \"Ram is good boy\".lower()"
      ],
      "metadata": {
        "id": "ErfL4rZI-ofy"
      },
      "execution_count": 4,
      "outputs": []
    },
    {
      "cell_type": "code",
      "source": [
        "doc1_tok = word_tokenize(doc1)\n",
        "doc2_tok = word_tokenize(doc2)"
      ],
      "metadata": {
        "id": "wFpg5MkELK3O"
      },
      "execution_count": 5,
      "outputs": []
    },
    {
      "cell_type": "code",
      "source": [
        "corpus = list(set(doc1_tok + doc2_tok))"
      ],
      "metadata": {
        "id": "9OHax4_zAPKG"
      },
      "execution_count": 6,
      "outputs": []
    },
    {
      "cell_type": "code",
      "source": [
        "corpus_without_stop_word = [word for word in corpus if word not in stop_word_list]"
      ],
      "metadata": {
        "id": "05AOEv3iHBmw"
      },
      "execution_count": 7,
      "outputs": []
    },
    {
      "cell_type": "code",
      "source": [
        "corpus_without_stop_word"
      ],
      "metadata": {
        "colab": {
          "base_uri": "https://localhost:8080/"
        },
        "id": "DFaxLvUHHsMs",
        "outputId": "ea030558-4d13-4d88-ae1c-3069d74563b7"
      },
      "execution_count": 8,
      "outputs": [
        {
          "output_type": "execute_result",
          "data": {
            "text/plain": [
              "['ram', 'boy', 'hello', 'good', 'sonu']"
            ]
          },
          "metadata": {},
          "execution_count": 8
        }
      ]
    },
    {
      "cell_type": "markdown",
      "source": [
        "## **Indexing**"
      ],
      "metadata": {
        "id": "35nRwXq9hC8B"
      }
    },
    {
      "cell_type": "code",
      "source": [
        "dic = {}\n",
        "\n",
        "for i in corpus_without_stop_word:\n",
        "  cnt = 0\n",
        "  doc = []\n",
        "  for j in range(len(doc1_tok)):\n",
        "    if i == doc1_tok[j]:\n",
        "      cnt += 1\n",
        "      doc.append(\"D1\")\n",
        "  for k in range(len(doc2_tok)):\n",
        "    if i == doc2_tok[k]:\n",
        "      cnt += 1\n",
        "      doc.append(\"D2\")\n",
        "  dic[i] = f\"{i} ->({doc}, {cnt} )\"\n",
        "\n"
      ],
      "metadata": {
        "id": "ab86uB4lI1UF"
      },
      "execution_count": 9,
      "outputs": []
    },
    {
      "cell_type": "code",
      "source": [
        "dic"
      ],
      "metadata": {
        "colab": {
          "base_uri": "https://localhost:8080/"
        },
        "id": "zoaSiSnmJXFC",
        "outputId": "d5fc7a86-e0ef-4946-a126-edfc61c5a880"
      },
      "execution_count": 10,
      "outputs": [
        {
          "output_type": "execute_result",
          "data": {
            "text/plain": [
              "{'ram': \"ram ->(['D2'], 1 )\",\n",
              " 'boy': \"boy ->(['D1', 'D2'], 2 )\",\n",
              " 'hello': \"hello ->(['D1'], 1 )\",\n",
              " 'good': \"good ->(['D1', 'D2'], 2 )\",\n",
              " 'sonu': \"sonu ->(['D1', 'D1'], 2 )\"}"
            ]
          },
          "metadata": {},
          "execution_count": 10
        }
      ]
    },
    {
      "cell_type": "code",
      "source": [
        "dic.keys()"
      ],
      "metadata": {
        "colab": {
          "base_uri": "https://localhost:8080/"
        },
        "id": "5dnseIOtL3HN",
        "outputId": "52b6b9f8-1914-44ef-e778-2785f67391c7"
      },
      "execution_count": 11,
      "outputs": [
        {
          "output_type": "execute_result",
          "data": {
            "text/plain": [
              "dict_keys(['ram', 'boy', 'hello', 'good', 'sonu'])"
            ]
          },
          "metadata": {},
          "execution_count": 11
        }
      ]
    },
    {
      "cell_type": "code",
      "source": [
        "def searchW(word):\n",
        "  if word.lower() in list(dic.keys()):\n",
        "    return dic[word]\n",
        "  else:\n",
        "    return \"not found\""
      ],
      "metadata": {
        "id": "whLdMczHJquy"
      },
      "execution_count": 12,
      "outputs": []
    },
    {
      "cell_type": "code",
      "source": [
        "searchW('good')"
      ],
      "metadata": {
        "colab": {
          "base_uri": "https://localhost:8080/",
          "height": 36
        },
        "id": "1Rvxu516Ltyx",
        "outputId": "579fad6f-8aac-49fe-e81e-23d43e0e9489"
      },
      "execution_count": 13,
      "outputs": [
        {
          "output_type": "execute_result",
          "data": {
            "text/plain": [
              "\"good ->(['D1', 'D2'], 2 )\""
            ],
            "application/vnd.google.colaboratory.intrinsic+json": {
              "type": "string"
            }
          },
          "metadata": {},
          "execution_count": 13
        }
      ]
    },
    {
      "cell_type": "code",
      "source": [],
      "metadata": {
        "id": "TLXM34NTMAmd"
      },
      "execution_count": 13,
      "outputs": []
    }
  ]
}