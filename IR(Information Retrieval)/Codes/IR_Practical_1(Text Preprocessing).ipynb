{
  "nbformat": 4,
  "nbformat_minor": 0,
  "metadata": {
    "colab": {
      "provenance": []
    },
    "kernelspec": {
      "name": "python3",
      "display_name": "Python 3"
    },
    "language_info": {
      "name": "python"
    }
  },
  "cells": [
    {
      "cell_type": "code",
      "execution_count": null,
      "metadata": {
        "id": "Wlw-6aiKy93j"
      },
      "outputs": [],
      "source": [
        "import nltk\n",
        "from string import punctuation"
      ]
    },
    {
      "cell_type": "code",
      "source": [
        "from nltk.corpus import stopwords"
      ],
      "metadata": {
        "id": "RS-oUYEZzTqN"
      },
      "execution_count": null,
      "outputs": []
    },
    {
      "cell_type": "code",
      "source": [
        "from nltk.tokenize import sent_tokenize, word_tokenize"
      ],
      "metadata": {
        "id": "Sf8qhn7O0S8m"
      },
      "execution_count": null,
      "outputs": []
    },
    {
      "cell_type": "code",
      "source": [
        "nltk.download('stopwords')"
      ],
      "metadata": {
        "colab": {
          "base_uri": "https://localhost:8080/"
        },
        "id": "Xsp0KPuuz9PH",
        "outputId": "0a2924bb-f0ce-4c25-e617-d3961e4697af"
      },
      "execution_count": null,
      "outputs": [
        {
          "output_type": "stream",
          "name": "stderr",
          "text": [
            "[nltk_data] Downloading package stopwords to /root/nltk_data...\n",
            "[nltk_data]   Unzipping corpora/stopwords.zip.\n"
          ]
        },
        {
          "output_type": "execute_result",
          "data": {
            "text/plain": [
              "True"
            ]
          },
          "metadata": {},
          "execution_count": 4
        }
      ]
    },
    {
      "cell_type": "code",
      "source": [
        "nltk.download('punkt')"
      ],
      "metadata": {
        "colab": {
          "base_uri": "https://localhost:8080/"
        },
        "id": "GG9zUPTZ2Fjw",
        "outputId": "9705951f-3b8d-414d-aeef-4d9714cac788"
      },
      "execution_count": null,
      "outputs": [
        {
          "output_type": "stream",
          "name": "stderr",
          "text": [
            "[nltk_data] Downloading package punkt to /root/nltk_data...\n",
            "[nltk_data]   Unzipping tokenizers/punkt.zip.\n"
          ]
        },
        {
          "output_type": "execute_result",
          "data": {
            "text/plain": [
              "True"
            ]
          },
          "metadata": {},
          "execution_count": 5
        }
      ]
    },
    {
      "cell_type": "code",
      "source": [
        "doc = \"What is a paragraph? Paragraphs are the building blocks of papers. Many students define paragraphs in terms of length: a paragraph is a group of at least five sentences, a paragraph is half a page long, etc. In reality, though, the unity and coherence of ideas among sentences is what constitutes a paragraph.\""
      ],
      "metadata": {
        "id": "Wz1DFwdsy_Aq"
      },
      "execution_count": null,
      "outputs": []
    },
    {
      "cell_type": "markdown",
      "source": [
        "##**Tokenization**"
      ],
      "metadata": {
        "id": "sAyyftEW3xCN"
      }
    },
    {
      "cell_type": "code",
      "source": [
        "doc_tokenized = word_tokenize(doc)"
      ],
      "metadata": {
        "id": "-hP-9vJVz3_Q"
      },
      "execution_count": null,
      "outputs": []
    },
    {
      "cell_type": "code",
      "source": [
        "doc_tokenized"
      ],
      "metadata": {
        "colab": {
          "base_uri": "https://localhost:8080/"
        },
        "id": "yPAd_Avn2DP8",
        "outputId": "98610c25-5d7e-45dd-ca8f-57d372bf0057"
      },
      "execution_count": null,
      "outputs": [
        {
          "output_type": "execute_result",
          "data": {
            "text/plain": [
              "['What',\n",
              " 'is',\n",
              " 'a',\n",
              " 'paragraph',\n",
              " '?',\n",
              " 'Paragraphs',\n",
              " 'are',\n",
              " 'the',\n",
              " 'building',\n",
              " 'blocks',\n",
              " 'of',\n",
              " 'papers',\n",
              " '.',\n",
              " 'Many',\n",
              " 'students',\n",
              " 'define',\n",
              " 'paragraphs',\n",
              " 'in',\n",
              " 'terms',\n",
              " 'of',\n",
              " 'length',\n",
              " ':',\n",
              " 'a',\n",
              " 'paragraph',\n",
              " 'is',\n",
              " 'a',\n",
              " 'group',\n",
              " 'of',\n",
              " 'at',\n",
              " 'least',\n",
              " 'five',\n",
              " 'sentences',\n",
              " ',',\n",
              " 'a',\n",
              " 'paragraph',\n",
              " 'is',\n",
              " 'half',\n",
              " 'a',\n",
              " 'page',\n",
              " 'long',\n",
              " ',',\n",
              " 'etc',\n",
              " '.',\n",
              " 'In',\n",
              " 'reality',\n",
              " ',',\n",
              " 'though',\n",
              " ',',\n",
              " 'the',\n",
              " 'unity',\n",
              " 'and',\n",
              " 'coherence',\n",
              " 'of',\n",
              " 'ideas',\n",
              " 'among',\n",
              " 'sentences',\n",
              " 'is',\n",
              " 'what',\n",
              " 'constitutes',\n",
              " 'a',\n",
              " 'paragraph',\n",
              " '.']"
            ]
          },
          "metadata": {},
          "execution_count": 8
        }
      ]
    },
    {
      "cell_type": "code",
      "source": [
        "len(doc_tokenized)"
      ],
      "metadata": {
        "colab": {
          "base_uri": "https://localhost:8080/"
        },
        "id": "vbJgBugr8qPJ",
        "outputId": "e590f654-7ba5-46a3-deb0-a6ad4d0d6b83"
      },
      "execution_count": null,
      "outputs": [
        {
          "output_type": "execute_result",
          "data": {
            "text/plain": [
              "62"
            ]
          },
          "metadata": {},
          "execution_count": 9
        }
      ]
    },
    {
      "cell_type": "markdown",
      "source": [
        "##**Lower Case all tokenized Word**"
      ],
      "metadata": {
        "id": "mxq7zOmA4otW"
      }
    },
    {
      "cell_type": "code",
      "source": [
        "doc_tokenized = [word.lower() for word in doc_tokenized]"
      ],
      "metadata": {
        "id": "StB8Ov1u4Yfy"
      },
      "execution_count": null,
      "outputs": []
    },
    {
      "cell_type": "markdown",
      "source": [
        "## **StopWord Removal**"
      ],
      "metadata": {
        "id": "-Y4kpeMV3s4k"
      }
    },
    {
      "cell_type": "code",
      "source": [
        "custom_list = set(list(stopwords.words('english') + list(punctuation)))"
      ],
      "metadata": {
        "id": "0viar8Gy0eWe"
      },
      "execution_count": null,
      "outputs": []
    },
    {
      "cell_type": "code",
      "source": [
        "removed_stopword = [word for word in doc_tokenized if word not in custom_list]"
      ],
      "metadata": {
        "id": "GIyrkOCd2NR7"
      },
      "execution_count": null,
      "outputs": []
    },
    {
      "cell_type": "code",
      "source": [
        "removed_stopword"
      ],
      "metadata": {
        "colab": {
          "base_uri": "https://localhost:8080/"
        },
        "id": "WURGlFi52miS",
        "outputId": "746b4823-974c-4642-cbf0-325bb37294a3"
      },
      "execution_count": null,
      "outputs": [
        {
          "output_type": "execute_result",
          "data": {
            "text/plain": [
              "['paragraph',\n",
              " 'paragraphs',\n",
              " 'building',\n",
              " 'blocks',\n",
              " 'papers',\n",
              " 'many',\n",
              " 'students',\n",
              " 'define',\n",
              " 'paragraphs',\n",
              " 'terms',\n",
              " 'length',\n",
              " 'paragraph',\n",
              " 'group',\n",
              " 'least',\n",
              " 'five',\n",
              " 'sentences',\n",
              " 'paragraph',\n",
              " 'half',\n",
              " 'page',\n",
              " 'long',\n",
              " 'etc',\n",
              " 'reality',\n",
              " 'though',\n",
              " 'unity',\n",
              " 'coherence',\n",
              " 'ideas',\n",
              " 'among',\n",
              " 'sentences',\n",
              " 'constitutes',\n",
              " 'paragraph']"
            ]
          },
          "metadata": {},
          "execution_count": 13
        }
      ]
    },
    {
      "cell_type": "code",
      "source": [
        "len(removed_stopword)"
      ],
      "metadata": {
        "colab": {
          "base_uri": "https://localhost:8080/"
        },
        "id": "TcChJ7Oc8i5_",
        "outputId": "ce23cca7-f597-41c5-ded5-c3745574bdb1"
      },
      "execution_count": null,
      "outputs": [
        {
          "output_type": "execute_result",
          "data": {
            "text/plain": [
              "30"
            ]
          },
          "metadata": {},
          "execution_count": 14
        }
      ]
    },
    {
      "cell_type": "markdown",
      "source": [
        "## **Porter Stemming**"
      ],
      "metadata": {
        "id": "_IUvLPoj3pYS"
      }
    },
    {
      "cell_type": "code",
      "source": [
        "from nltk.stem import PorterStemmer"
      ],
      "metadata": {
        "id": "ik6P50wK29om"
      },
      "execution_count": null,
      "outputs": []
    },
    {
      "cell_type": "code",
      "source": [
        "ps = PorterStemmer()"
      ],
      "metadata": {
        "id": "ZS3656AC3MW3"
      },
      "execution_count": null,
      "outputs": []
    },
    {
      "cell_type": "code",
      "source": [
        "stemmed_word = [ps.stem(word) for word in removed_stopword]"
      ],
      "metadata": {
        "id": "hh7dMBHL3Oun"
      },
      "execution_count": null,
      "outputs": []
    },
    {
      "cell_type": "code",
      "source": [
        "stemmed_word"
      ],
      "metadata": {
        "colab": {
          "base_uri": "https://localhost:8080/"
        },
        "id": "MKXzbB933Za8",
        "outputId": "dbcfdf1f-8472-4c17-b4a0-9172c08ba145"
      },
      "execution_count": null,
      "outputs": [
        {
          "output_type": "execute_result",
          "data": {
            "text/plain": [
              "['paragraph',\n",
              " 'paragraph',\n",
              " 'build',\n",
              " 'block',\n",
              " 'paper',\n",
              " 'mani',\n",
              " 'student',\n",
              " 'defin',\n",
              " 'paragraph',\n",
              " 'term',\n",
              " 'length',\n",
              " 'paragraph',\n",
              " 'group',\n",
              " 'least',\n",
              " 'five',\n",
              " 'sentenc',\n",
              " 'paragraph',\n",
              " 'half',\n",
              " 'page',\n",
              " 'long',\n",
              " 'etc',\n",
              " 'realiti',\n",
              " 'though',\n",
              " 'uniti',\n",
              " 'coher',\n",
              " 'idea',\n",
              " 'among',\n",
              " 'sentenc',\n",
              " 'constitut',\n",
              " 'paragraph']"
            ]
          },
          "metadata": {},
          "execution_count": 18
        }
      ]
    },
    {
      "cell_type": "markdown",
      "source": [
        "##**LancasterStemmer**"
      ],
      "metadata": {
        "id": "KYyKeBS598d4"
      }
    },
    {
      "cell_type": "code",
      "source": [
        "from nltk.stem import LancasterStemmer"
      ],
      "metadata": {
        "id": "9gWdHEVk3auo"
      },
      "execution_count": null,
      "outputs": []
    },
    {
      "cell_type": "code",
      "source": [
        "ls = LancasterStemmer()"
      ],
      "metadata": {
        "id": "ctutUDlU4wu9"
      },
      "execution_count": null,
      "outputs": []
    },
    {
      "cell_type": "code",
      "source": [
        "stemmed_word = [ls.stem(word) for word in removed_stopword]"
      ],
      "metadata": {
        "id": "ChgjCbl-40lN"
      },
      "execution_count": null,
      "outputs": []
    },
    {
      "cell_type": "code",
      "source": [
        "stemmed_word"
      ],
      "metadata": {
        "colab": {
          "base_uri": "https://localhost:8080/"
        },
        "id": "kQOE_1b744BN",
        "outputId": "634eef53-7bac-4f3b-f94d-bf980c5dd314"
      },
      "execution_count": null,
      "outputs": [
        {
          "output_type": "execute_result",
          "data": {
            "text/plain": [
              "['paragraph',\n",
              " 'paragraph',\n",
              " 'build',\n",
              " 'block',\n",
              " 'pap',\n",
              " 'many',\n",
              " 'stud',\n",
              " 'defin',\n",
              " 'paragraph',\n",
              " 'term',\n",
              " 'leng',\n",
              " 'paragraph',\n",
              " 'group',\n",
              " 'least',\n",
              " 'fiv',\n",
              " 'sent',\n",
              " 'paragraph',\n",
              " 'half',\n",
              " 'pag',\n",
              " 'long',\n",
              " 'etc',\n",
              " 'real',\n",
              " 'though',\n",
              " 'un',\n",
              " 'coh',\n",
              " 'idea',\n",
              " 'among',\n",
              " 'sent',\n",
              " 'constitut',\n",
              " 'paragraph']"
            ]
          },
          "metadata": {},
          "execution_count": 22
        }
      ]
    },
    {
      "cell_type": "code",
      "source": [],
      "metadata": {
        "id": "qS3ctTh5A7Zq"
      },
      "execution_count": null,
      "outputs": []
    }
  ]
}